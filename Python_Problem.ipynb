{
 "cells": [
  {
   "cell_type": "markdown",
   "metadata": {},
   "source": [
    "### INSTALL TWEEPY"
   ]
  },
  {
   "cell_type": "code",
   "execution_count": 1,
   "metadata": {},
   "outputs": [
    {
     "name": "stdout",
     "output_type": "stream",
     "text": [
      "Collecting tweepy\n",
      "  Downloading https://files.pythonhosted.org/packages/d5/5f/daac4b4e9b30d7d2a6fdd16a880ff79f27918fe388e4dfc1983dec3a9876/tweepy-3.7.0-py2.py3-none-any.whl\n",
      "Requirement already satisfied: requests>=2.11.1 in g:\\anaconda3\\lib\\site-packages (from tweepy) (2.21.0)\n",
      "Collecting requests-oauthlib>=0.7.0 (from tweepy)\n",
      "  Downloading https://files.pythonhosted.org/packages/c2/e2/9fd03d55ffb70fe51f587f20bcf407a6927eb121de86928b34d162f0b1ac/requests_oauthlib-1.2.0-py2.py3-none-any.whl\n",
      "Requirement already satisfied: PySocks>=1.5.7 in g:\\anaconda3\\lib\\site-packages (from tweepy) (1.6.8)\n",
      "Requirement already satisfied: six>=1.10.0 in g:\\anaconda3\\lib\\site-packages (from tweepy) (1.12.0)\n",
      "Requirement already satisfied: idna<2.9,>=2.5 in g:\\anaconda3\\lib\\site-packages (from requests>=2.11.1->tweepy) (2.8)\n",
      "Requirement already satisfied: chardet<3.1.0,>=3.0.2 in g:\\anaconda3\\lib\\site-packages (from requests>=2.11.1->tweepy) (3.0.4)\n",
      "Requirement already satisfied: urllib3<1.25,>=1.21.1 in g:\\anaconda3\\lib\\site-packages (from requests>=2.11.1->tweepy) (1.24.1)\n",
      "Requirement already satisfied: certifi>=2017.4.17 in g:\\anaconda3\\lib\\site-packages (from requests>=2.11.1->tweepy) (2019.3.9)\n",
      "Collecting oauthlib>=3.0.0 (from requests-oauthlib>=0.7.0->tweepy)\n",
      "  Downloading https://files.pythonhosted.org/packages/16/95/699466b05b72b94a41f662dc9edf87fda4289e3602ecd42d27fcaddf7b56/oauthlib-3.0.1-py2.py3-none-any.whl (142kB)\n",
      "Installing collected packages: oauthlib, requests-oauthlib, tweepy\n",
      "Successfully installed oauthlib-3.0.1 requests-oauthlib-1.2.0 tweepy-3.7.0\n",
      "Note: you may need to restart the kernel to use updated packages.\n"
     ]
    }
   ],
   "source": [
    "pip install tweepy"
   ]
  },
  {
   "cell_type": "markdown",
   "metadata": {},
   "source": [
    "Import Tweepy"
   ]
  },
  {
   "cell_type": "code",
   "execution_count": 1,
   "metadata": {},
   "outputs": [],
   "source": [
    "import tweepy"
   ]
  },
  {
   "cell_type": "markdown",
   "metadata": {},
   "source": [
    "### Getting Twitter API keys"
   ]
  },
  {
   "cell_type": "markdown",
   "metadata": {},
   "source": [
    "Create a Twitter developer account to create an App. After completeing the procedure you will get User Credentials"
   ]
  },
  {
   "cell_type": "markdown",
   "metadata": {},
   "source": [
    "Variables that contains the user credentials to access Twitter API"
   ]
  },
  {
   "cell_type": "code",
   "execution_count": 2,
   "metadata": {},
   "outputs": [],
   "source": [
    "access_token = 'Enter your access_token'\n",
    "access_token_secret = 'Enter your access_token_secret'\n",
    "consumer_key = 'Enter your consumer_key'\n",
    "consumer_secret = 'Enter your consumer_secret'"
   ]
  },
  {
   "cell_type": "markdown",
   "metadata": {},
   "source": [
    "### Connecting to Twitter Streaming APIs"
   ]
  },
  {
   "cell_type": "markdown",
   "metadata": {},
   "source": [
    "Setup tweepy to authenticate with Twitter credentials"
   ]
  },
  {
   "cell_type": "code",
   "execution_count": 3,
   "metadata": {},
   "outputs": [],
   "source": [
    "auth = tweepy.OAuthHandler(consumer_key, consumer_secret)\n",
    "auth.set_access_token(access_token, access_token_secret)"
   ]
  },
  {
   "cell_type": "markdown",
   "metadata": {},
   "source": [
    "Create the api to connect with Twitter"
   ]
  },
  {
   "cell_type": "code",
   "execution_count": 4,
   "metadata": {},
   "outputs": [],
   "source": [
    "api = tweepy.API(auth, wait_on_rate_limit=True, wait_on_rate_limit_notify=True, compression=True)"
   ]
  },
  {
   "cell_type": "markdown",
   "metadata": {},
   "source": [
    "Checking the working of the code. Getting the information of my twitter handle and of Midas IIITD"
   ]
  },
  {
   "cell_type": "code",
   "execution_count": 5,
   "metadata": {},
   "outputs": [
    {
     "name": "stdout",
     "output_type": "stream",
     "text": [
      "Name: Hardik Airen\n",
      "Location: \n",
      "Friends: 4\n"
     ]
    }
   ],
   "source": [
    "user = api.me()\n",
    " \n",
    "print('Name: ' + user.name)\n",
    "print('Location: ' + user.location)\n",
    "print('Friends: ' + str(user.friends_count))"
   ]
  },
  {
   "cell_type": "code",
   "execution_count": 4,
   "metadata": {},
   "outputs": [
    {
     "name": "stdout",
     "output_type": "stream",
     "text": [
      "Name: MIDAS IIITD\n",
      "Location: New Delhi, India\n",
      "Friends: 42\n"
     ]
    }
   ],
   "source": [
    "user = api.get_user('midasIIITD')\n",
    " \n",
    "print('Name: ' + user.name)\n",
    "print('Location: ' + user.location)\n",
    "print('Friends: ' + str(user.friends_count))"
   ]
  },
  {
   "cell_type": "markdown",
   "metadata": {},
   "source": [
    "Import csv and json"
   ]
  },
  {
   "cell_type": "code",
   "execution_count": 12,
   "metadata": {},
   "outputs": [],
   "source": [
    "import csv\n",
    "import json"
   ]
  },
  {
   "cell_type": "markdown",
   "metadata": {},
   "source": [
    "Create an empty array to get all the tweets by a user in it"
   ]
  },
  {
   "cell_type": "code",
   "execution_count": 13,
   "metadata": {},
   "outputs": [],
   "source": [
    "tmp=[]  "
   ]
  },
  {
   "cell_type": "markdown",
   "metadata": {},
   "source": [
    "Define a function get_tweets to get all the tweets by a user"
   ]
  },
  {
   "cell_type": "code",
   "execution_count": 14,
   "metadata": {},
   "outputs": [],
   "source": [
    "def get_tweets(username): \n",
    "         \n",
    "        #200 tweets to be extracted\n",
    "        number_of_tweets=200                                        \n",
    "        tweets = api.user_timeline(screen_name=username) \n",
    "  \n",
    "         \n",
    "        tweets_for_csv = [tweet.text for tweet in tweets] \n",
    "        for j in tweets_for_csv: \n",
    "            tmp.append(j)  \n",
    "  \n",
    "        print(tmp) \n",
    "\n",
    "\n",
    "  "
   ]
  },
  {
   "cell_type": "markdown",
   "metadata": {},
   "source": [
    "Call the function with the username"
   ]
  },
  {
   "cell_type": "markdown",
   "metadata": {},
   "source": [
    "Got the Tweets done by midas@IIITD in a list"
   ]
  },
  {
   "cell_type": "code",
   "execution_count": 15,
   "metadata": {
    "scrolled": true
   },
   "outputs": [
    {
     "name": "stdout",
     "output_type": "stream",
     "text": [
      "['Clarification: Our earlier post which indicates that the interview has been done is referring to the interviews of… https://t.co/x8Etf6qEOn', 'RT @IIITDelhi: Applications open for MTech (CB) through JNU CEEB Admission process. Candidates can check the JNU CEEB admission process in…', 'RT @IIITDelhi: We are delighted to share that IIIT-Delhi is ranked 55 by NIRF this year. We have moved up by 11 positions compared to the p…', 'RT @Harvard: Professor Jelani Nelson founded AddisCoder, a program that teaches students in Ethiopia how to code https://t.co/0sM06p4qxw', 'RT @emnlp2019: For anyone interested in submitting to EMNLP 2019, the anonymity period begins in less two weeks, on April 21.\\nhttps://t.co/…', 'RT @multimediaeval: Announcing the 2019 MediaEval multimedia tasks: https://t.co/V6NMt1vaNV Participation is open for anyone who is interes…', 'Many Congratulations to @midasIIITD student, Shagun Uppal @shagunuppls, on getting selected for the summer internsh… https://t.co/bzhiSm4zuB', '@midasIIITD thanks all students who have appeared for the interview yesterday. We will announce the interview resul… https://t.co/qxESgZPtKJ', '@himanchalchandr Meanwhile, complete CV/NLP task first.', '@sayangdipto123 Submit as per the guideline again.', 'We request all students whose interview are scheduled today to join at the time given to them and not before or aft… https://t.co/7cnrlj1b9Q', 'Other queries: \"none of the Tweeter Apis give the correct count of favorites tested for most of them, all give the… https://t.co/2jnCTMMqV8', 'Other queries: \"do we have to make two different repositories on Github as \"Python Problem\" and \"CV Problem\". Or we… https://t.co/45x8RhQcAT', 'Other queries: \"If using Twitter api, it does not include any information about images in the response objects sent… https://t.co/JEWZB2XTPq', 'Response to some queries asked by students on @midasIIITD task.\\nWhat does the line \"dump the responses into JSONlin… https://t.co/Rr6ri8lyVY', 'RT @kdnuggets: Top 8 #Free Must-Read #Books on #DeepLearning #KDN https://t.co/1DtlN91Yjj', '@nupur_baghel @PennDATS Congratulation @nupur_baghel on getting admit from @PennDATS. \\nShe got 5/10 acceptance. She… https://t.co/ooD8yneUwS', 'We have emailed the task details to all candidates who have applied to @midasIIITD internship through IIITD portal.… https://t.co/gZwyr7D2Sw', 'RT @rfpvjr: Our NAACL paper on polarization in language on Twitter surrounding mass shootings is up on arXiv! https://t.co/g7wiegXxDg\\nThis…', 'RT @kdnuggets: Effective Transfer Learning For NLP https://t.co/Z1m0AzlfVv https://t.co/ccX4Uhxjn8']\n"
     ]
    }
   ],
   "source": [
    "if __name__ == '__main__': \n",
    "    get_tweets(\"midasIIITD\")"
   ]
  },
  {
   "cell_type": "markdown",
   "metadata": {},
   "source": [
    "Dumping the list into a JSON file"
   ]
  },
  {
   "cell_type": "code",
   "execution_count": 16,
   "metadata": {},
   "outputs": [],
   "source": [
    "json_string = json.dumps(tmp)"
   ]
  },
  {
   "cell_type": "code",
   "execution_count": 17,
   "metadata": {
    "scrolled": true
   },
   "outputs": [
    {
     "data": {
      "text/plain": [
       "'[\"Clarification: Our earlier post which indicates that the interview has been done is referring to the interviews of\\\\u2026 https://t.co/x8Etf6qEOn\", \"RT @IIITDelhi: Applications open for MTech (CB) through JNU CEEB Admission process. Candidates can check the JNU CEEB admission process in\\\\u2026\", \"RT @IIITDelhi: We are delighted to share that IIIT-Delhi is ranked 55 by NIRF this year. We have moved up by 11 positions compared to the p\\\\u2026\", \"RT @Harvard: Professor Jelani Nelson founded AddisCoder, a program that teaches students in Ethiopia how to code https://t.co/0sM06p4qxw\", \"RT @emnlp2019: For anyone interested in submitting to EMNLP 2019, the anonymity period begins in less two weeks, on April 21.\\\\nhttps://t.co/\\\\u2026\", \"RT @multimediaeval: Announcing the 2019 MediaEval multimedia tasks: https://t.co/V6NMt1vaNV Participation is open for anyone who is interes\\\\u2026\", \"Many Congratulations to @midasIIITD student, Shagun Uppal @shagunuppls, on getting selected for the summer internsh\\\\u2026 https://t.co/bzhiSm4zuB\", \"@midasIIITD thanks all students who have appeared for the interview yesterday. We will announce the interview resul\\\\u2026 https://t.co/qxESgZPtKJ\", \"@himanchalchandr Meanwhile, complete CV/NLP task first.\", \"@sayangdipto123 Submit as per the guideline again.\", \"We request all students whose interview are scheduled today to join at the time given to them and not before or aft\\\\u2026 https://t.co/7cnrlj1b9Q\", \"Other queries: \\\\\"none of the Tweeter Apis give the correct count of favorites tested for most of them, all give the\\\\u2026 https://t.co/2jnCTMMqV8\", \"Other queries: \\\\\"do we have to make two different repositories on Github as \\\\\"Python Problem\\\\\" and \\\\\"CV Problem\\\\\". Or we\\\\u2026 https://t.co/45x8RhQcAT\", \"Other queries: \\\\\"If using Twitter api, it does not include any information about images in the response objects sent\\\\u2026 https://t.co/JEWZB2XTPq\", \"Response to some queries asked by students on @midasIIITD task.\\\\nWhat does the line \\\\\"dump the responses into JSONlin\\\\u2026 https://t.co/Rr6ri8lyVY\", \"RT @kdnuggets: Top 8 #Free Must-Read #Books on #DeepLearning #KDN https://t.co/1DtlN91Yjj\", \"@nupur_baghel @PennDATS Congratulation @nupur_baghel on getting admit from @PennDATS. \\\\nShe got 5/10 acceptance. She\\\\u2026 https://t.co/ooD8yneUwS\", \"We have emailed the task details to all candidates who have applied to @midasIIITD internship through IIITD portal.\\\\u2026 https://t.co/gZwyr7D2Sw\", \"RT @rfpvjr: Our NAACL paper on polarization in language on Twitter surrounding mass shootings is up on arXiv! https://t.co/g7wiegXxDg\\\\nThis\\\\u2026\", \"RT @kdnuggets: Effective Transfer Learning For NLP https://t.co/Z1m0AzlfVv https://t.co/ccX4Uhxjn8\"]'"
      ]
     },
     "execution_count": 17,
     "metadata": {},
     "output_type": "execute_result"
    }
   ],
   "source": [
    "json_string"
   ]
  },
  {
   "cell_type": "markdown",
   "metadata": {},
   "source": [
    "Save the tweets in \"data.json\" file"
   ]
  },
  {
   "cell_type": "code",
   "execution_count": 18,
   "metadata": {},
   "outputs": [],
   "source": [
    "with open('data.json', 'w') as outfile:  \n",
    "    json.dump(json_string, outfile)"
   ]
  },
  {
   "cell_type": "markdown",
   "metadata": {},
   "source": [
    "Get a csv file in required format"
   ]
  },
  {
   "cell_type": "code",
   "execution_count": 21,
   "metadata": {},
   "outputs": [],
   "source": [
    "with open('tweet_info.csv', 'w', newline = '') as output:\n",
    "\n",
    "    fileOut = csv.writer(output)\n",
    "    data = [['Text','Created at','No. of likes', 'No. of Retweets', 'No. of Images']]\n",
    "\n",
    "    fileOut.writerows(data)"
   ]
  },
  {
   "cell_type": "markdown",
   "metadata": {},
   "source": [
    "Change the directory"
   ]
  },
  {
   "cell_type": "code",
   "execution_count": 24,
   "metadata": {},
   "outputs": [
    {
     "name": "stdout",
     "output_type": "stream",
     "text": [
      "C:\\Users\\Hardik Airen\\Python_Problem\n"
     ]
    }
   ],
   "source": [
    "cd C:\\Users\\Hardik Airen\\Python_Problem\n"
   ]
  },
  {
   "cell_type": "markdown",
   "metadata": {},
   "source": [
    "Get the list of timeline of \"midasIIITD\" using \"user_timeline\""
   ]
  },
  {
   "cell_type": "markdown",
   "metadata": {},
   "source": [
    "Here the index in status_list represent the tweet. '0' means the latest tweet "
   ]
  },
  {
   "cell_type": "code",
   "execution_count": 69,
   "metadata": {},
   "outputs": [],
   "source": [
    "status_list = api.user_timeline(\"midasIIITD\")\n",
    "status = status_list[0]\n",
    "json_str = json.dumps(status._json)"
   ]
  },
  {
   "cell_type": "markdown",
   "metadata": {},
   "source": [
    "Latest tweet in JSON file format"
   ]
  },
  {
   "cell_type": "code",
   "execution_count": 164,
   "metadata": {
    "scrolled": true
   },
   "outputs": [
    {
     "data": {
      "text/plain": [
       "'{\"created_at\": \"Fri Apr 05 04:04:43 +0000 2019\", \"id\": 1114015987395854336, \"id_str\": \"1114015987395854336\", \"text\": \"RT @kdnuggets: Effective Transfer Learning For NLP https://t.co/Z1m0AzlfVv https://t.co/ccX4Uhxjn8\", \"truncated\": false, \"entities\": {\"hashtags\": [], \"symbols\": [], \"user_mentions\": [{\"screen_name\": \"kdnuggets\", \"name\": \"KDnuggets\", \"id\": 20167623, \"id_str\": \"20167623\", \"indices\": [3, 13]}], \"urls\": [{\"url\": \"https://t.co/Z1m0AzlfVv\", \"expanded_url\": \"https://buff.ly/2K7XvvN\", \"display_url\": \"buff.ly/2K7XvvN\", \"indices\": [51, 74]}], \"media\": [{\"id\": 1114014846817796099, \"id_str\": \"1114014846817796099\", \"indices\": [75, 98], \"media_url\": \"http://pbs.twimg.com/media/D3XGmdMWAAM7bXv.png\", \"media_url_https\": \"https://pbs.twimg.com/media/D3XGmdMWAAM7bXv.png\", \"url\": \"https://t.co/ccX4Uhxjn8\", \"display_url\": \"pic.twitter.com/ccX4Uhxjn8\", \"expanded_url\": \"https://twitter.com/kdnuggets/status/1114014848369799169/photo/1\", \"type\": \"photo\", \"sizes\": {\"thumb\": {\"w\": 150, \"h\": 150, \"resize\": \"crop\"}, \"medium\": {\"w\": 640, \"h\": 300, \"resize\": \"fit\"}, \"large\": {\"w\": 640, \"h\": 300, \"resize\": \"fit\"}, \"small\": {\"w\": 640, \"h\": 300, \"resize\": \"fit\"}}, \"source_status_id\": 1114014848369799169, \"source_status_id_str\": \"1114014848369799169\", \"source_user_id\": 20167623, \"source_user_id_str\": \"20167623\"}]}, \"extended_entities\": {\"media\": [{\"id\": 1114014846817796099, \"id_str\": \"1114014846817796099\", \"indices\": [75, 98], \"media_url\": \"http://pbs.twimg.com/media/D3XGmdMWAAM7bXv.png\", \"media_url_https\": \"https://pbs.twimg.com/media/D3XGmdMWAAM7bXv.png\", \"url\": \"https://t.co/ccX4Uhxjn8\", \"display_url\": \"pic.twitter.com/ccX4Uhxjn8\", \"expanded_url\": \"https://twitter.com/kdnuggets/status/1114014848369799169/photo/1\", \"type\": \"photo\", \"sizes\": {\"thumb\": {\"w\": 150, \"h\": 150, \"resize\": \"crop\"}, \"medium\": {\"w\": 640, \"h\": 300, \"resize\": \"fit\"}, \"large\": {\"w\": 640, \"h\": 300, \"resize\": \"fit\"}, \"small\": {\"w\": 640, \"h\": 300, \"resize\": \"fit\"}}, \"source_status_id\": 1114014848369799169, \"source_status_id_str\": \"1114014848369799169\", \"source_user_id\": 20167623, \"source_user_id_str\": \"20167623\"}]}, \"source\": \"<a href=\\\\\"http://twitter.com\\\\\" rel=\\\\\"nofollow\\\\\">Twitter Web Client</a>\", \"in_reply_to_status_id\": null, \"in_reply_to_status_id_str\": null, \"in_reply_to_user_id\": null, \"in_reply_to_user_id_str\": null, \"in_reply_to_screen_name\": null, \"user\": {\"id\": 1021355762575073281, \"id_str\": \"1021355762575073281\", \"name\": \"MIDAS IIITD\", \"screen_name\": \"midasIIITD\", \"location\": \"New Delhi, India\", \"description\": \"MIDAS is a group of researchers at IIIT-Delhi who study, analyze, and build different multimedia systems for society leveraging multimodal information.\", \"url\": \"https://t.co/Uwg7oSM6mE\", \"entities\": {\"url\": {\"urls\": [{\"url\": \"https://t.co/Uwg7oSM6mE\", \"expanded_url\": \"http://midas.iiitd.edu.in/\", \"display_url\": \"midas.iiitd.edu.in\", \"indices\": [0, 23]}]}, \"description\": {\"urls\": []}}, \"protected\": false, \"followers_count\": 295, \"friends_count\": 43, \"listed_count\": 0, \"created_at\": \"Mon Jul 23 11:26:04 +0000 2018\", \"favourites_count\": 143, \"utc_offset\": null, \"time_zone\": null, \"geo_enabled\": false, \"verified\": false, \"statuses_count\": 344, \"lang\": \"en\", \"contributors_enabled\": false, \"is_translator\": false, \"is_translation_enabled\": false, \"profile_background_color\": \"F5F8FA\", \"profile_background_image_url\": null, \"profile_background_image_url_https\": null, \"profile_background_tile\": false, \"profile_image_url\": \"http://pbs.twimg.com/profile_images/1021356444921212928/WmSTJCUs_normal.jpg\", \"profile_image_url_https\": \"https://pbs.twimg.com/profile_images/1021356444921212928/WmSTJCUs_normal.jpg\", \"profile_banner_url\": \"https://pbs.twimg.com/profile_banners/1021355762575073281/1554320878\", \"profile_link_color\": \"1DA1F2\", \"profile_sidebar_border_color\": \"C0DEED\", \"profile_sidebar_fill_color\": \"DDEEF6\", \"profile_text_color\": \"333333\", \"profile_use_background_image\": true, \"has_extended_profile\": false, \"default_profile\": true, \"default_profile_image\": false, \"following\": true, \"follow_request_sent\": false, \"notifications\": false, \"translator_type\": \"none\"}, \"geo\": null, \"coordinates\": null, \"place\": null, \"contributors\": null, \"retweeted_status\": {\"created_at\": \"Fri Apr 05 04:00:11 +0000 2019\", \"id\": 1114014848369799169, \"id_str\": \"1114014848369799169\", \"text\": \"Effective Transfer Learning For NLP https://t.co/Z1m0AzlfVv https://t.co/ccX4Uhxjn8\", \"truncated\": false, \"entities\": {\"hashtags\": [], \"symbols\": [], \"user_mentions\": [], \"urls\": [{\"url\": \"https://t.co/Z1m0AzlfVv\", \"expanded_url\": \"https://buff.ly/2K7XvvN\", \"display_url\": \"buff.ly/2K7XvvN\", \"indices\": [36, 59]}], \"media\": [{\"id\": 1114014846817796099, \"id_str\": \"1114014846817796099\", \"indices\": [60, 83], \"media_url\": \"http://pbs.twimg.com/media/D3XGmdMWAAM7bXv.png\", \"media_url_https\": \"https://pbs.twimg.com/media/D3XGmdMWAAM7bXv.png\", \"url\": \"https://t.co/ccX4Uhxjn8\", \"display_url\": \"pic.twitter.com/ccX4Uhxjn8\", \"expanded_url\": \"https://twitter.com/kdnuggets/status/1114014848369799169/photo/1\", \"type\": \"photo\", \"sizes\": {\"thumb\": {\"w\": 150, \"h\": 150, \"resize\": \"crop\"}, \"medium\": {\"w\": 640, \"h\": 300, \"resize\": \"fit\"}, \"large\": {\"w\": 640, \"h\": 300, \"resize\": \"fit\"}, \"small\": {\"w\": 640, \"h\": 300, \"resize\": \"fit\"}}}]}, \"extended_entities\": {\"media\": [{\"id\": 1114014846817796099, \"id_str\": \"1114014846817796099\", \"indices\": [60, 83], \"media_url\": \"http://pbs.twimg.com/media/D3XGmdMWAAM7bXv.png\", \"media_url_https\": \"https://pbs.twimg.com/media/D3XGmdMWAAM7bXv.png\", \"url\": \"https://t.co/ccX4Uhxjn8\", \"display_url\": \"pic.twitter.com/ccX4Uhxjn8\", \"expanded_url\": \"https://twitter.com/kdnuggets/status/1114014848369799169/photo/1\", \"type\": \"photo\", \"sizes\": {\"thumb\": {\"w\": 150, \"h\": 150, \"resize\": \"crop\"}, \"medium\": {\"w\": 640, \"h\": 300, \"resize\": \"fit\"}, \"large\": {\"w\": 640, \"h\": 300, \"resize\": \"fit\"}, \"small\": {\"w\": 640, \"h\": 300, \"resize\": \"fit\"}}}]}, \"source\": \"<a href=\\\\\"https://buffer.com\\\\\" rel=\\\\\"nofollow\\\\\">Buffer</a>\", \"in_reply_to_status_id\": null, \"in_reply_to_status_id_str\": null, \"in_reply_to_user_id\": null, \"in_reply_to_user_id_str\": null, \"in_reply_to_screen_name\": null, \"user\": {\"id\": 20167623, \"id_str\": \"20167623\", \"name\": \"KDnuggets\", \"screen_name\": \"kdnuggets\", \"location\": \"Brookline, MA, USA\", \"description\": \"Covering #AI, #Analytics, #BigData, #DataMining, #DataScience #MachineLearning, #DeepLearning.  Founded by Gregory Piatetsky-Shapiro.\", \"url\": \"https://t.co/pTYBq6ncsT\", \"entities\": {\"url\": {\"urls\": [{\"url\": \"https://t.co/pTYBq6ncsT\", \"expanded_url\": \"https://www.kdnuggets.com/\", \"display_url\": \"kdnuggets.com\", \"indices\": [0, 23]}]}, \"description\": {\"urls\": []}}, \"protected\": false, \"followers_count\": 144850, \"friends_count\": 413, \"listed_count\": 6101, \"created_at\": \"Thu Feb 05 17:37:26 +0000 2009\", \"favourites_count\": 641, \"utc_offset\": null, \"time_zone\": null, \"geo_enabled\": false, \"verified\": false, \"statuses_count\": 55727, \"lang\": \"en\", \"contributors_enabled\": false, \"is_translator\": false, \"is_translation_enabled\": false, \"profile_background_color\": \"0099B9\", \"profile_background_image_url\": \"http://abs.twimg.com/images/themes/theme1/bg.png\", \"profile_background_image_url_https\": \"https://abs.twimg.com/images/themes/theme1/bg.png\", \"profile_background_tile\": true, \"profile_image_url\": \"http://pbs.twimg.com/profile_images/795788806008041473/0nTPcRja_normal.jpg\", \"profile_image_url_https\": \"https://pbs.twimg.com/profile_images/795788806008041473/0nTPcRja_normal.jpg\", \"profile_banner_url\": \"https://pbs.twimg.com/profile_banners/20167623/1476546748\", \"profile_link_color\": \"0099B9\", \"profile_sidebar_border_color\": \"5ED4DC\", \"profile_sidebar_fill_color\": \"95E8EC\", \"profile_text_color\": \"3C3940\", \"profile_use_background_image\": true, \"has_extended_profile\": false, \"default_profile\": false, \"default_profile_image\": false, \"following\": false, \"follow_request_sent\": false, \"notifications\": false, \"translator_type\": \"regular\"}, \"geo\": null, \"coordinates\": null, \"place\": null, \"contributors\": null, \"is_quote_status\": false, \"retweet_count\": 11, \"favorite_count\": 21, \"favorited\": false, \"retweeted\": false, \"possibly_sensitive\": false, \"lang\": \"en\"}, \"is_quote_status\": false, \"retweet_count\": 11, \"favorite_count\": 0, \"favorited\": false, \"retweeted\": false, \"possibly_sensitive\": false, \"lang\": \"en\"}'"
      ]
     },
     "execution_count": 164,
     "metadata": {},
     "output_type": "execute_result"
    }
   ],
   "source": [
    "json_str"
   ]
  },
  {
   "cell_type": "markdown",
   "metadata": {},
   "source": [
    "Writing the JSON string file into data1.json as an output file"
   ]
  },
  {
   "cell_type": "code",
   "execution_count": 71,
   "metadata": {},
   "outputs": [],
   "source": [
    "with open('tweet.json', 'w') as outfile:  \n",
    "    json.dump(json_str, outfile)"
   ]
  },
  {
   "cell_type": "markdown",
   "metadata": {},
   "source": [
    "\"tweet.json\" file contains all the timeline information of midas@IIITD"
   ]
  },
  {
   "cell_type": "markdown",
   "metadata": {},
   "source": [
    "Convert the above JSON string into a readable format"
   ]
  },
  {
   "cell_type": "code",
   "execution_count": 165,
   "metadata": {},
   "outputs": [],
   "source": [
    "tweet = json.loads(json_str)"
   ]
  },
  {
   "cell_type": "markdown",
   "metadata": {},
   "source": [
    "Information of the latest tweet"
   ]
  },
  {
   "cell_type": "code",
   "execution_count": 189,
   "metadata": {},
   "outputs": [
    {
     "data": {
      "text/plain": [
       "{'created_at': 'Fri Apr 05 04:04:43 +0000 2019',\n",
       " 'id': 1114015987395854336,\n",
       " 'id_str': '1114015987395854336',\n",
       " 'text': 'RT @kdnuggets: Effective Transfer Learning For NLP https://t.co/Z1m0AzlfVv https://t.co/ccX4Uhxjn8',\n",
       " 'truncated': False,\n",
       " 'entities': {'hashtags': [],\n",
       "  'symbols': [],\n",
       "  'user_mentions': [{'screen_name': 'kdnuggets',\n",
       "    'name': 'KDnuggets',\n",
       "    'id': 20167623,\n",
       "    'id_str': '20167623',\n",
       "    'indices': [3, 13]}],\n",
       "  'urls': [{'url': 'https://t.co/Z1m0AzlfVv',\n",
       "    'expanded_url': 'https://buff.ly/2K7XvvN',\n",
       "    'display_url': 'buff.ly/2K7XvvN',\n",
       "    'indices': [51, 74]}],\n",
       "  'media': [{'id': 1114014846817796099,\n",
       "    'id_str': '1114014846817796099',\n",
       "    'indices': [75, 98],\n",
       "    'media_url': 'http://pbs.twimg.com/media/D3XGmdMWAAM7bXv.png',\n",
       "    'media_url_https': 'https://pbs.twimg.com/media/D3XGmdMWAAM7bXv.png',\n",
       "    'url': 'https://t.co/ccX4Uhxjn8',\n",
       "    'display_url': 'pic.twitter.com/ccX4Uhxjn8',\n",
       "    'expanded_url': 'https://twitter.com/kdnuggets/status/1114014848369799169/photo/1',\n",
       "    'type': 'photo',\n",
       "    'sizes': {'thumb': {'w': 150, 'h': 150, 'resize': 'crop'},\n",
       "     'medium': {'w': 640, 'h': 300, 'resize': 'fit'},\n",
       "     'large': {'w': 640, 'h': 300, 'resize': 'fit'},\n",
       "     'small': {'w': 640, 'h': 300, 'resize': 'fit'}},\n",
       "    'source_status_id': 1114014848369799169,\n",
       "    'source_status_id_str': '1114014848369799169',\n",
       "    'source_user_id': 20167623,\n",
       "    'source_user_id_str': '20167623'}]},\n",
       " 'extended_entities': {'media': [{'id': 1114014846817796099,\n",
       "    'id_str': '1114014846817796099',\n",
       "    'indices': [75, 98],\n",
       "    'media_url': 'http://pbs.twimg.com/media/D3XGmdMWAAM7bXv.png',\n",
       "    'media_url_https': 'https://pbs.twimg.com/media/D3XGmdMWAAM7bXv.png',\n",
       "    'url': 'https://t.co/ccX4Uhxjn8',\n",
       "    'display_url': 'pic.twitter.com/ccX4Uhxjn8',\n",
       "    'expanded_url': 'https://twitter.com/kdnuggets/status/1114014848369799169/photo/1',\n",
       "    'type': 'photo',\n",
       "    'sizes': {'thumb': {'w': 150, 'h': 150, 'resize': 'crop'},\n",
       "     'medium': {'w': 640, 'h': 300, 'resize': 'fit'},\n",
       "     'large': {'w': 640, 'h': 300, 'resize': 'fit'},\n",
       "     'small': {'w': 640, 'h': 300, 'resize': 'fit'}},\n",
       "    'source_status_id': 1114014848369799169,\n",
       "    'source_status_id_str': '1114014848369799169',\n",
       "    'source_user_id': 20167623,\n",
       "    'source_user_id_str': '20167623'}]},\n",
       " 'source': '<a href=\"http://twitter.com\" rel=\"nofollow\">Twitter Web Client</a>',\n",
       " 'in_reply_to_status_id': None,\n",
       " 'in_reply_to_status_id_str': None,\n",
       " 'in_reply_to_user_id': None,\n",
       " 'in_reply_to_user_id_str': None,\n",
       " 'in_reply_to_screen_name': None,\n",
       " 'user': {'id': 1021355762575073281,\n",
       "  'id_str': '1021355762575073281',\n",
       "  'name': 'MIDAS IIITD',\n",
       "  'screen_name': 'midasIIITD',\n",
       "  'location': 'New Delhi, India',\n",
       "  'description': 'MIDAS is a group of researchers at IIIT-Delhi who study, analyze, and build different multimedia systems for society leveraging multimodal information.',\n",
       "  'url': 'https://t.co/Uwg7oSM6mE',\n",
       "  'entities': {'url': {'urls': [{'url': 'https://t.co/Uwg7oSM6mE',\n",
       "      'expanded_url': 'http://midas.iiitd.edu.in/',\n",
       "      'display_url': 'midas.iiitd.edu.in',\n",
       "      'indices': [0, 23]}]},\n",
       "   'description': {'urls': []}},\n",
       "  'protected': False,\n",
       "  'followers_count': 295,\n",
       "  'friends_count': 43,\n",
       "  'listed_count': 0,\n",
       "  'created_at': 'Mon Jul 23 11:26:04 +0000 2018',\n",
       "  'favourites_count': 143,\n",
       "  'utc_offset': None,\n",
       "  'time_zone': None,\n",
       "  'geo_enabled': False,\n",
       "  'verified': False,\n",
       "  'statuses_count': 344,\n",
       "  'lang': 'en',\n",
       "  'contributors_enabled': False,\n",
       "  'is_translator': False,\n",
       "  'is_translation_enabled': False,\n",
       "  'profile_background_color': 'F5F8FA',\n",
       "  'profile_background_image_url': None,\n",
       "  'profile_background_image_url_https': None,\n",
       "  'profile_background_tile': False,\n",
       "  'profile_image_url': 'http://pbs.twimg.com/profile_images/1021356444921212928/WmSTJCUs_normal.jpg',\n",
       "  'profile_image_url_https': 'https://pbs.twimg.com/profile_images/1021356444921212928/WmSTJCUs_normal.jpg',\n",
       "  'profile_banner_url': 'https://pbs.twimg.com/profile_banners/1021355762575073281/1554320878',\n",
       "  'profile_link_color': '1DA1F2',\n",
       "  'profile_sidebar_border_color': 'C0DEED',\n",
       "  'profile_sidebar_fill_color': 'DDEEF6',\n",
       "  'profile_text_color': '333333',\n",
       "  'profile_use_background_image': True,\n",
       "  'has_extended_profile': False,\n",
       "  'default_profile': True,\n",
       "  'default_profile_image': False,\n",
       "  'following': True,\n",
       "  'follow_request_sent': False,\n",
       "  'notifications': False,\n",
       "  'translator_type': 'none'},\n",
       " 'geo': None,\n",
       " 'coordinates': None,\n",
       " 'place': None,\n",
       " 'contributors': None,\n",
       " 'retweeted_status': {'created_at': 'Fri Apr 05 04:00:11 +0000 2019',\n",
       "  'id': 1114014848369799169,\n",
       "  'id_str': '1114014848369799169',\n",
       "  'text': 'Effective Transfer Learning For NLP https://t.co/Z1m0AzlfVv https://t.co/ccX4Uhxjn8',\n",
       "  'truncated': False,\n",
       "  'entities': {'hashtags': [],\n",
       "   'symbols': [],\n",
       "   'user_mentions': [],\n",
       "   'urls': [{'url': 'https://t.co/Z1m0AzlfVv',\n",
       "     'expanded_url': 'https://buff.ly/2K7XvvN',\n",
       "     'display_url': 'buff.ly/2K7XvvN',\n",
       "     'indices': [36, 59]}],\n",
       "   'media': [{'id': 1114014846817796099,\n",
       "     'id_str': '1114014846817796099',\n",
       "     'indices': [60, 83],\n",
       "     'media_url': 'http://pbs.twimg.com/media/D3XGmdMWAAM7bXv.png',\n",
       "     'media_url_https': 'https://pbs.twimg.com/media/D3XGmdMWAAM7bXv.png',\n",
       "     'url': 'https://t.co/ccX4Uhxjn8',\n",
       "     'display_url': 'pic.twitter.com/ccX4Uhxjn8',\n",
       "     'expanded_url': 'https://twitter.com/kdnuggets/status/1114014848369799169/photo/1',\n",
       "     'type': 'photo',\n",
       "     'sizes': {'thumb': {'w': 150, 'h': 150, 'resize': 'crop'},\n",
       "      'medium': {'w': 640, 'h': 300, 'resize': 'fit'},\n",
       "      'large': {'w': 640, 'h': 300, 'resize': 'fit'},\n",
       "      'small': {'w': 640, 'h': 300, 'resize': 'fit'}}}]},\n",
       "  'extended_entities': {'media': [{'id': 1114014846817796099,\n",
       "     'id_str': '1114014846817796099',\n",
       "     'indices': [60, 83],\n",
       "     'media_url': 'http://pbs.twimg.com/media/D3XGmdMWAAM7bXv.png',\n",
       "     'media_url_https': 'https://pbs.twimg.com/media/D3XGmdMWAAM7bXv.png',\n",
       "     'url': 'https://t.co/ccX4Uhxjn8',\n",
       "     'display_url': 'pic.twitter.com/ccX4Uhxjn8',\n",
       "     'expanded_url': 'https://twitter.com/kdnuggets/status/1114014848369799169/photo/1',\n",
       "     'type': 'photo',\n",
       "     'sizes': {'thumb': {'w': 150, 'h': 150, 'resize': 'crop'},\n",
       "      'medium': {'w': 640, 'h': 300, 'resize': 'fit'},\n",
       "      'large': {'w': 640, 'h': 300, 'resize': 'fit'},\n",
       "      'small': {'w': 640, 'h': 300, 'resize': 'fit'}}}]},\n",
       "  'source': '<a href=\"https://buffer.com\" rel=\"nofollow\">Buffer</a>',\n",
       "  'in_reply_to_status_id': None,\n",
       "  'in_reply_to_status_id_str': None,\n",
       "  'in_reply_to_user_id': None,\n",
       "  'in_reply_to_user_id_str': None,\n",
       "  'in_reply_to_screen_name': None,\n",
       "  'user': {'id': 20167623,\n",
       "   'id_str': '20167623',\n",
       "   'name': 'KDnuggets',\n",
       "   'screen_name': 'kdnuggets',\n",
       "   'location': 'Brookline, MA, USA',\n",
       "   'description': 'Covering #AI, #Analytics, #BigData, #DataMining, #DataScience #MachineLearning, #DeepLearning.  Founded by Gregory Piatetsky-Shapiro.',\n",
       "   'url': 'https://t.co/pTYBq6ncsT',\n",
       "   'entities': {'url': {'urls': [{'url': 'https://t.co/pTYBq6ncsT',\n",
       "       'expanded_url': 'https://www.kdnuggets.com/',\n",
       "       'display_url': 'kdnuggets.com',\n",
       "       'indices': [0, 23]}]},\n",
       "    'description': {'urls': []}},\n",
       "   'protected': False,\n",
       "   'followers_count': 144850,\n",
       "   'friends_count': 413,\n",
       "   'listed_count': 6101,\n",
       "   'created_at': 'Thu Feb 05 17:37:26 +0000 2009',\n",
       "   'favourites_count': 641,\n",
       "   'utc_offset': None,\n",
       "   'time_zone': None,\n",
       "   'geo_enabled': False,\n",
       "   'verified': False,\n",
       "   'statuses_count': 55727,\n",
       "   'lang': 'en',\n",
       "   'contributors_enabled': False,\n",
       "   'is_translator': False,\n",
       "   'is_translation_enabled': False,\n",
       "   'profile_background_color': '0099B9',\n",
       "   'profile_background_image_url': 'http://abs.twimg.com/images/themes/theme1/bg.png',\n",
       "   'profile_background_image_url_https': 'https://abs.twimg.com/images/themes/theme1/bg.png',\n",
       "   'profile_background_tile': True,\n",
       "   'profile_image_url': 'http://pbs.twimg.com/profile_images/795788806008041473/0nTPcRja_normal.jpg',\n",
       "   'profile_image_url_https': 'https://pbs.twimg.com/profile_images/795788806008041473/0nTPcRja_normal.jpg',\n",
       "   'profile_banner_url': 'https://pbs.twimg.com/profile_banners/20167623/1476546748',\n",
       "   'profile_link_color': '0099B9',\n",
       "   'profile_sidebar_border_color': '5ED4DC',\n",
       "   'profile_sidebar_fill_color': '95E8EC',\n",
       "   'profile_text_color': '3C3940',\n",
       "   'profile_use_background_image': True,\n",
       "   'has_extended_profile': False,\n",
       "   'default_profile': False,\n",
       "   'default_profile_image': False,\n",
       "   'following': False,\n",
       "   'follow_request_sent': False,\n",
       "   'notifications': False,\n",
       "   'translator_type': 'regular'},\n",
       "  'geo': None,\n",
       "  'coordinates': None,\n",
       "  'place': None,\n",
       "  'contributors': None,\n",
       "  'is_quote_status': False,\n",
       "  'retweet_count': 11,\n",
       "  'favorite_count': 21,\n",
       "  'favorited': False,\n",
       "  'retweeted': False,\n",
       "  'possibly_sensitive': False,\n",
       "  'lang': 'en'},\n",
       " 'is_quote_status': False,\n",
       " 'retweet_count': 11,\n",
       " 'favorite_count': 0,\n",
       " 'favorited': False,\n",
       " 'retweeted': False,\n",
       " 'possibly_sensitive': False,\n",
       " 'lang': 'en'}"
      ]
     },
     "execution_count": 189,
     "metadata": {},
     "output_type": "execute_result"
    }
   ],
   "source": [
    "tweet"
   ]
  },
  {
   "cell_type": "markdown",
   "metadata": {},
   "source": [
    "Get No. of likes and No. of retweets of above tweet using tweet id  "
   ]
  },
  {
   "cell_type": "code",
   "execution_count": 169,
   "metadata": {},
   "outputs": [],
   "source": [
    "id_tweet = tweet[\"id\"]"
   ]
  },
  {
   "cell_type": "code",
   "execution_count": 170,
   "metadata": {},
   "outputs": [
    {
     "name": "stdout",
     "output_type": "stream",
     "text": [
      "11\n",
      "0\n"
     ]
    }
   ],
   "source": [
    "tweet = api.get_status(id_tweet)\n",
    "print(tweet.retweet_count)\n",
    "print(tweet.favorite_count)"
   ]
  },
  {
   "cell_type": "markdown",
   "metadata": {},
   "source": [
    "To check if an image is present in a tweet or not"
   ]
  },
  {
   "cell_type": "code",
   "execution_count": 213,
   "metadata": {},
   "outputs": [
    {
     "name": "stdout",
     "output_type": "stream",
     "text": [
      "No picture in this tweet\n"
     ]
    }
   ],
   "source": [
    "try:\n",
    "    print(True in [medium['type'] == 'photo' for medium in tweet.entities['media']])\n",
    "except:\n",
    "    print(\"None\")"
   ]
  },
  {
   "cell_type": "markdown",
   "metadata": {},
   "source": [
    "### DISPLAY THE DATE,TEXT,NO. OF FAVORITES,NO. OF RETWEETS,NO. OF IMAGES OF 20 TWEETS"
   ]
  },
  {
   "cell_type": "markdown",
   "metadata": {},
   "source": [
    "Create an empty list to get tweets of \"midasIIITD\""
   ]
  },
  {
   "cell_type": "code",
   "execution_count": 108,
   "metadata": {},
   "outputs": [],
   "source": [
    "tweet_list=[]"
   ]
  },
  {
   "cell_type": "markdown",
   "metadata": {},
   "source": [
    "Getting latest 20 tweets and append it into json_str1 "
   ]
  },
  {
   "cell_type": "markdown",
   "metadata": {},
   "source": [
    "\"Created_at\" list contains date and time of all tweets"
   ]
  },
  {
   "cell_type": "code",
   "execution_count": 214,
   "metadata": {},
   "outputs": [],
   "source": [
    "Created_at=[]"
   ]
  },
  {
   "cell_type": "markdown",
   "metadata": {},
   "source": [
    "\"Text\" list contains text of all tweets"
   ]
  },
  {
   "cell_type": "code",
   "execution_count": 215,
   "metadata": {},
   "outputs": [],
   "source": [
    "Text=[]"
   ]
  },
  {
   "cell_type": "markdown",
   "metadata": {},
   "source": [
    "\"Favorites\" list contains No. of likes of all tweets"
   ]
  },
  {
   "cell_type": "code",
   "execution_count": 216,
   "metadata": {},
   "outputs": [],
   "source": [
    "Favorites= []"
   ]
  },
  {
   "cell_type": "markdown",
   "metadata": {},
   "source": [
    "\"Retweets\" list contains No. of retweets of all tweets"
   ]
  },
  {
   "cell_type": "code",
   "execution_count": 217,
   "metadata": {},
   "outputs": [],
   "source": [
    "retweets=[]"
   ]
  },
  {
   "cell_type": "markdown",
   "metadata": {},
   "source": [
    "\"Images\" list contains No. of images present in  all tweets"
   ]
  },
  {
   "cell_type": "code",
   "execution_count": 218,
   "metadata": {},
   "outputs": [],
   "source": [
    "Images = []"
   ]
  },
  {
   "cell_type": "code",
   "execution_count": 219,
   "metadata": {},
   "outputs": [],
   "source": [
    "for i in range(20):\n",
    "    status = status_list[i]\n",
    "    json_str = json.dumps(status._json)\n",
    "    tweet = json.loads(json_str)\n",
    "    tweet1 = json.loads(tweet_list[i])\n",
    "    id_tweet = tweet1[\"id\"]\n",
    "    tweet_2 = api.get_status(id_tweet)\n",
    "    Created_at.append(tweet1[\"created_at\"])\n",
    "    Text.append(tweet1[\"text\"])\n",
    "    Favorites.append(tweet_2.favorite_count)\n",
    "    retweets.append(tweet_2.retweet_count)\n",
    "    Images.append(\"None\")\n",
    "    \n",
    "    \n",
    "    "
   ]
  },
  {
   "cell_type": "markdown",
   "metadata": {},
   "source": [
    "tweet_list contains latest 20 tweets"
   ]
  },
  {
   "cell_type": "markdown",
   "metadata": {},
   "source": [
    "Import NumPy"
   ]
  },
  {
   "cell_type": "code",
   "execution_count": 130,
   "metadata": {},
   "outputs": [],
   "source": [
    "import numpy as np"
   ]
  },
  {
   "cell_type": "markdown",
   "metadata": {},
   "source": [
    "Convert all 5 lists into NumPy array"
   ]
  },
  {
   "cell_type": "code",
   "execution_count": 221,
   "metadata": {},
   "outputs": [],
   "source": [
    "Created_at = np.asarray(Created_at)"
   ]
  },
  {
   "cell_type": "code",
   "execution_count": 222,
   "metadata": {},
   "outputs": [],
   "source": [
    "Text = np.asarray(Text)"
   ]
  },
  {
   "cell_type": "code",
   "execution_count": 223,
   "metadata": {},
   "outputs": [],
   "source": [
    "Favorites = np.asarray(Favorites)"
   ]
  },
  {
   "cell_type": "code",
   "execution_count": 224,
   "metadata": {},
   "outputs": [],
   "source": [
    "retweets = np.asarray(retweets)"
   ]
  },
  {
   "cell_type": "code",
   "execution_count": 225,
   "metadata": {},
   "outputs": [],
   "source": [
    "Images = np.asarray(Images)"
   ]
  },
  {
   "cell_type": "markdown",
   "metadata": {},
   "source": [
    "Reshape all lists so that we can use a dictionary"
   ]
  },
  {
   "cell_type": "code",
   "execution_count": 232,
   "metadata": {},
   "outputs": [
    {
     "data": {
      "text/plain": [
       "array([[ 0],\n",
       "       [ 1],\n",
       "       [14],\n",
       "       [36],\n",
       "       [17],\n",
       "       [15],\n",
       "       [ 2],\n",
       "       [ 0],\n",
       "       [ 0],\n",
       "       [ 0],\n",
       "       [ 1],\n",
       "       [ 2],\n",
       "       [ 1],\n",
       "       [ 1],\n",
       "       [ 1],\n",
       "       [ 2],\n",
       "       [ 3],\n",
       "       [ 1],\n",
       "       [16],\n",
       "       [11]])"
      ]
     },
     "execution_count": 232,
     "metadata": {},
     "output_type": "execute_result"
    }
   ],
   "source": [
    "retweets.reshape((-1,1))"
   ]
  },
  {
   "cell_type": "markdown",
   "metadata": {},
   "source": [
    "Add all the NumPy arrays into a dictionary"
   ]
  },
  {
   "cell_type": "code",
   "execution_count": 235,
   "metadata": {},
   "outputs": [],
   "source": [
    "dict1={}"
   ]
  },
  {
   "cell_type": "code",
   "execution_count": 236,
   "metadata": {},
   "outputs": [],
   "source": [
    "dict1[\"Created_at\"] = Created_at"
   ]
  },
  {
   "cell_type": "code",
   "execution_count": 237,
   "metadata": {},
   "outputs": [
    {
     "data": {
      "text/plain": [
       "{'Created_at': array(['Wed Apr 10 09:01:29 +0000 2019', 'Wed Apr 10 04:51:26 +0000 2019',\n",
       "        'Tue Apr 09 16:45:07 +0000 2019', 'Tue Apr 09 05:04:27 +0000 2019',\n",
       "        'Tue Apr 09 05:04:11 +0000 2019', 'Mon Apr 08 19:38:09 +0000 2019',\n",
       "        'Mon Apr 08 07:08:12 +0000 2019', 'Mon Apr 08 03:27:42 +0000 2019',\n",
       "        'Sun Apr 07 14:17:29 +0000 2019', 'Sun Apr 07 14:17:09 +0000 2019',\n",
       "        'Sun Apr 07 11:43:24 +0000 2019', 'Sun Apr 07 06:55:19 +0000 2019',\n",
       "        'Sun Apr 07 06:53:38 +0000 2019', 'Sun Apr 07 05:32:27 +0000 2019',\n",
       "        'Sun Apr 07 05:29:40 +0000 2019', 'Sat Apr 06 17:11:29 +0000 2019',\n",
       "        'Sat Apr 06 16:43:27 +0000 2019', 'Fri Apr 05 16:08:37 +0000 2019',\n",
       "        'Fri Apr 05 04:05:11 +0000 2019', 'Fri Apr 05 04:04:43 +0000 2019'],\n",
       "       dtype='<U30')}"
      ]
     },
     "execution_count": 237,
     "metadata": {},
     "output_type": "execute_result"
    }
   ],
   "source": [
    "dict1"
   ]
  },
  {
   "cell_type": "code",
   "execution_count": 238,
   "metadata": {},
   "outputs": [],
   "source": [
    "dict1[\"Text\"] = Text"
   ]
  },
  {
   "cell_type": "code",
   "execution_count": 239,
   "metadata": {},
   "outputs": [],
   "source": [
    "dict1[\"Favorites\"] = Favorites"
   ]
  },
  {
   "cell_type": "code",
   "execution_count": 240,
   "metadata": {},
   "outputs": [],
   "source": [
    "dict1[\"retweets\"] = retweets"
   ]
  },
  {
   "cell_type": "code",
   "execution_count": 241,
   "metadata": {},
   "outputs": [],
   "source": [
    "dict1[\"Images\"] = Images"
   ]
  },
  {
   "cell_type": "markdown",
   "metadata": {},
   "source": [
    "Got a dictionary containing all the information of 20 tweets"
   ]
  },
  {
   "cell_type": "code",
   "execution_count": 242,
   "metadata": {},
   "outputs": [
    {
     "data": {
      "text/plain": [
       "{'Created_at': array(['Wed Apr 10 09:01:29 +0000 2019', 'Wed Apr 10 04:51:26 +0000 2019',\n",
       "        'Tue Apr 09 16:45:07 +0000 2019', 'Tue Apr 09 05:04:27 +0000 2019',\n",
       "        'Tue Apr 09 05:04:11 +0000 2019', 'Mon Apr 08 19:38:09 +0000 2019',\n",
       "        'Mon Apr 08 07:08:12 +0000 2019', 'Mon Apr 08 03:27:42 +0000 2019',\n",
       "        'Sun Apr 07 14:17:29 +0000 2019', 'Sun Apr 07 14:17:09 +0000 2019',\n",
       "        'Sun Apr 07 11:43:24 +0000 2019', 'Sun Apr 07 06:55:19 +0000 2019',\n",
       "        'Sun Apr 07 06:53:38 +0000 2019', 'Sun Apr 07 05:32:27 +0000 2019',\n",
       "        'Sun Apr 07 05:29:40 +0000 2019', 'Sat Apr 06 17:11:29 +0000 2019',\n",
       "        'Sat Apr 06 16:43:27 +0000 2019', 'Fri Apr 05 16:08:37 +0000 2019',\n",
       "        'Fri Apr 05 04:05:11 +0000 2019', 'Fri Apr 05 04:04:43 +0000 2019'],\n",
       "       dtype='<U30'),\n",
       " 'Text': array(['Clarification: Our earlier post which indicates that the interview has been done is referring to the interviews of… https://t.co/x8Etf6qEOn',\n",
       "        'RT @IIITDelhi: Applications open for MTech (CB) through JNU CEEB Admission process. Candidates can check the JNU CEEB admission process in…',\n",
       "        'RT @IIITDelhi: We are delighted to share that IIIT-Delhi is ranked 55 by NIRF this year. We have moved up by 11 positions compared to the p…',\n",
       "        'RT @Harvard: Professor Jelani Nelson founded AddisCoder, a program that teaches students in Ethiopia how to code https://t.co/0sM06p4qxw',\n",
       "        'RT @emnlp2019: For anyone interested in submitting to EMNLP 2019, the anonymity period begins in less two weeks, on April 21.\\nhttps://t.co/…',\n",
       "        'RT @multimediaeval: Announcing the 2019 MediaEval multimedia tasks: https://t.co/V6NMt1vaNV Participation is open for anyone who is interes…',\n",
       "        'Many Congratulations to @midasIIITD student, Shagun Uppal @shagunuppls, on getting selected for the summer internsh… https://t.co/bzhiSm4zuB',\n",
       "        '@midasIIITD thanks all students who have appeared for the interview yesterday. We will announce the interview resul… https://t.co/qxESgZPtKJ',\n",
       "        '@himanchalchandr Meanwhile, complete CV/NLP task first.',\n",
       "        '@sayangdipto123 Submit as per the guideline again.',\n",
       "        'We request all students whose interview are scheduled today to join at the time given to them and not before or aft… https://t.co/7cnrlj1b9Q',\n",
       "        'Other queries: \"none of the Tweeter Apis give the correct count of favorites tested for most of them, all give the… https://t.co/2jnCTMMqV8',\n",
       "        'Other queries: \"do we have to make two different repositories on Github as \"Python Problem\" and \"CV Problem\". Or we… https://t.co/45x8RhQcAT',\n",
       "        'Other queries: \"If using Twitter api, it does not include any information about images in the response objects sent… https://t.co/JEWZB2XTPq',\n",
       "        'Response to some queries asked by students on @midasIIITD task.\\nWhat does the line \"dump the responses into JSONlin… https://t.co/Rr6ri8lyVY',\n",
       "        'RT @kdnuggets: Top 8 #Free Must-Read #Books on #DeepLearning #KDN https://t.co/1DtlN91Yjj',\n",
       "        '@nupur_baghel @PennDATS Congratulation @nupur_baghel on getting admit from @PennDATS. \\nShe got 5/10 acceptance. She… https://t.co/ooD8yneUwS',\n",
       "        'We have emailed the task details to all candidates who have applied to @midasIIITD internship through IIITD portal.… https://t.co/gZwyr7D2Sw',\n",
       "        'RT @rfpvjr: Our NAACL paper on polarization in language on Twitter surrounding mass shootings is up on arXiv! https://t.co/g7wiegXxDg\\nThis…',\n",
       "        'RT @kdnuggets: Effective Transfer Learning For NLP https://t.co/Z1m0AzlfVv https://t.co/ccX4Uhxjn8'],\n",
       "       dtype='<U140'),\n",
       " 'Favorites': array([ 1,  0,  0,  0,  0,  0, 18,  5,  0,  0,  1,  5,  5,  6,  7,  0, 18,\n",
       "        11,  0,  0]),\n",
       " 'retweets': array([ 0,  1, 14, 36, 17, 15,  2,  0,  0,  0,  1,  2,  1,  1,  1,  2,  3,\n",
       "         1, 16, 11]),\n",
       " 'Images': array(['None', 'None', 'None', 'None', 'None', 'None', 'None', 'None',\n",
       "        'None', 'None', 'None', 'None', 'None', 'None', 'None', 'None',\n",
       "        'None', 'None', 'None', 'None'], dtype='<U4')}"
      ]
     },
     "execution_count": 242,
     "metadata": {},
     "output_type": "execute_result"
    }
   ],
   "source": [
    "dict1"
   ]
  },
  {
   "cell_type": "markdown",
   "metadata": {},
   "source": [
    "### SUBMISSION"
   ]
  },
  {
   "cell_type": "code",
   "execution_count": 244,
   "metadata": {},
   "outputs": [],
   "source": [
    "import pandas as pd"
   ]
  },
  {
   "cell_type": "markdown",
   "metadata": {},
   "source": [
    "Convert dictionary into pandas DataFrame"
   ]
  },
  {
   "cell_type": "code",
   "execution_count": 245,
   "metadata": {},
   "outputs": [],
   "source": [
    "tp = pd.DataFrame(dict1)"
   ]
  },
  {
   "cell_type": "code",
   "execution_count": 247,
   "metadata": {},
   "outputs": [
    {
     "data": {
      "text/html": [
       "<div>\n",
       "<style scoped>\n",
       "    .dataframe tbody tr th:only-of-type {\n",
       "        vertical-align: middle;\n",
       "    }\n",
       "\n",
       "    .dataframe tbody tr th {\n",
       "        vertical-align: top;\n",
       "    }\n",
       "\n",
       "    .dataframe thead th {\n",
       "        text-align: right;\n",
       "    }\n",
       "</style>\n",
       "<table border=\"1\" class=\"dataframe\">\n",
       "  <thead>\n",
       "    <tr style=\"text-align: right;\">\n",
       "      <th></th>\n",
       "      <th>Created_at</th>\n",
       "      <th>Text</th>\n",
       "      <th>Favorites</th>\n",
       "      <th>retweets</th>\n",
       "      <th>Images</th>\n",
       "    </tr>\n",
       "  </thead>\n",
       "  <tbody>\n",
       "    <tr>\n",
       "      <th>0</th>\n",
       "      <td>Wed Apr 10 09:01:29 +0000 2019</td>\n",
       "      <td>Clarification: Our earlier post which indicate...</td>\n",
       "      <td>1</td>\n",
       "      <td>0</td>\n",
       "      <td>None</td>\n",
       "    </tr>\n",
       "    <tr>\n",
       "      <th>1</th>\n",
       "      <td>Wed Apr 10 04:51:26 +0000 2019</td>\n",
       "      <td>RT @IIITDelhi: Applications open for MTech (CB...</td>\n",
       "      <td>0</td>\n",
       "      <td>1</td>\n",
       "      <td>None</td>\n",
       "    </tr>\n",
       "    <tr>\n",
       "      <th>2</th>\n",
       "      <td>Tue Apr 09 16:45:07 +0000 2019</td>\n",
       "      <td>RT @IIITDelhi: We are delighted to share that ...</td>\n",
       "      <td>0</td>\n",
       "      <td>14</td>\n",
       "      <td>None</td>\n",
       "    </tr>\n",
       "    <tr>\n",
       "      <th>3</th>\n",
       "      <td>Tue Apr 09 05:04:27 +0000 2019</td>\n",
       "      <td>RT @Harvard: Professor Jelani Nelson founded A...</td>\n",
       "      <td>0</td>\n",
       "      <td>36</td>\n",
       "      <td>None</td>\n",
       "    </tr>\n",
       "    <tr>\n",
       "      <th>4</th>\n",
       "      <td>Tue Apr 09 05:04:11 +0000 2019</td>\n",
       "      <td>RT @emnlp2019: For anyone interested in submit...</td>\n",
       "      <td>0</td>\n",
       "      <td>17</td>\n",
       "      <td>None</td>\n",
       "    </tr>\n",
       "    <tr>\n",
       "      <th>5</th>\n",
       "      <td>Mon Apr 08 19:38:09 +0000 2019</td>\n",
       "      <td>RT @multimediaeval: Announcing the 2019 MediaE...</td>\n",
       "      <td>0</td>\n",
       "      <td>15</td>\n",
       "      <td>None</td>\n",
       "    </tr>\n",
       "    <tr>\n",
       "      <th>6</th>\n",
       "      <td>Mon Apr 08 07:08:12 +0000 2019</td>\n",
       "      <td>Many Congratulations to @midasIIITD student, S...</td>\n",
       "      <td>18</td>\n",
       "      <td>2</td>\n",
       "      <td>None</td>\n",
       "    </tr>\n",
       "    <tr>\n",
       "      <th>7</th>\n",
       "      <td>Mon Apr 08 03:27:42 +0000 2019</td>\n",
       "      <td>@midasIIITD thanks all students who have appea...</td>\n",
       "      <td>5</td>\n",
       "      <td>0</td>\n",
       "      <td>None</td>\n",
       "    </tr>\n",
       "    <tr>\n",
       "      <th>8</th>\n",
       "      <td>Sun Apr 07 14:17:29 +0000 2019</td>\n",
       "      <td>@himanchalchandr Meanwhile, complete CV/NLP ta...</td>\n",
       "      <td>0</td>\n",
       "      <td>0</td>\n",
       "      <td>None</td>\n",
       "    </tr>\n",
       "    <tr>\n",
       "      <th>9</th>\n",
       "      <td>Sun Apr 07 14:17:09 +0000 2019</td>\n",
       "      <td>@sayangdipto123 Submit as per the guideline ag...</td>\n",
       "      <td>0</td>\n",
       "      <td>0</td>\n",
       "      <td>None</td>\n",
       "    </tr>\n",
       "    <tr>\n",
       "      <th>10</th>\n",
       "      <td>Sun Apr 07 11:43:24 +0000 2019</td>\n",
       "      <td>We request all students whose interview are sc...</td>\n",
       "      <td>1</td>\n",
       "      <td>1</td>\n",
       "      <td>None</td>\n",
       "    </tr>\n",
       "    <tr>\n",
       "      <th>11</th>\n",
       "      <td>Sun Apr 07 06:55:19 +0000 2019</td>\n",
       "      <td>Other queries: \"none of the Tweeter Apis give ...</td>\n",
       "      <td>5</td>\n",
       "      <td>2</td>\n",
       "      <td>None</td>\n",
       "    </tr>\n",
       "    <tr>\n",
       "      <th>12</th>\n",
       "      <td>Sun Apr 07 06:53:38 +0000 2019</td>\n",
       "      <td>Other queries: \"do we have to make two differe...</td>\n",
       "      <td>5</td>\n",
       "      <td>1</td>\n",
       "      <td>None</td>\n",
       "    </tr>\n",
       "    <tr>\n",
       "      <th>13</th>\n",
       "      <td>Sun Apr 07 05:32:27 +0000 2019</td>\n",
       "      <td>Other queries: \"If using Twitter api, it does ...</td>\n",
       "      <td>6</td>\n",
       "      <td>1</td>\n",
       "      <td>None</td>\n",
       "    </tr>\n",
       "    <tr>\n",
       "      <th>14</th>\n",
       "      <td>Sun Apr 07 05:29:40 +0000 2019</td>\n",
       "      <td>Response to some queries asked by students on ...</td>\n",
       "      <td>7</td>\n",
       "      <td>1</td>\n",
       "      <td>None</td>\n",
       "    </tr>\n",
       "    <tr>\n",
       "      <th>15</th>\n",
       "      <td>Sat Apr 06 17:11:29 +0000 2019</td>\n",
       "      <td>RT @kdnuggets: Top 8 #Free Must-Read #Books on...</td>\n",
       "      <td>0</td>\n",
       "      <td>2</td>\n",
       "      <td>None</td>\n",
       "    </tr>\n",
       "    <tr>\n",
       "      <th>16</th>\n",
       "      <td>Sat Apr 06 16:43:27 +0000 2019</td>\n",
       "      <td>@nupur_baghel @PennDATS Congratulation @nupur_...</td>\n",
       "      <td>18</td>\n",
       "      <td>3</td>\n",
       "      <td>None</td>\n",
       "    </tr>\n",
       "    <tr>\n",
       "      <th>17</th>\n",
       "      <td>Fri Apr 05 16:08:37 +0000 2019</td>\n",
       "      <td>We have emailed the task details to all candid...</td>\n",
       "      <td>11</td>\n",
       "      <td>1</td>\n",
       "      <td>None</td>\n",
       "    </tr>\n",
       "    <tr>\n",
       "      <th>18</th>\n",
       "      <td>Fri Apr 05 04:05:11 +0000 2019</td>\n",
       "      <td>RT @rfpvjr: Our NAACL paper on polarization in...</td>\n",
       "      <td>0</td>\n",
       "      <td>16</td>\n",
       "      <td>None</td>\n",
       "    </tr>\n",
       "    <tr>\n",
       "      <th>19</th>\n",
       "      <td>Fri Apr 05 04:04:43 +0000 2019</td>\n",
       "      <td>RT @kdnuggets: Effective Transfer Learning For...</td>\n",
       "      <td>0</td>\n",
       "      <td>11</td>\n",
       "      <td>None</td>\n",
       "    </tr>\n",
       "  </tbody>\n",
       "</table>\n",
       "</div>"
      ],
      "text/plain": [
       "                        Created_at  \\\n",
       "0   Wed Apr 10 09:01:29 +0000 2019   \n",
       "1   Wed Apr 10 04:51:26 +0000 2019   \n",
       "2   Tue Apr 09 16:45:07 +0000 2019   \n",
       "3   Tue Apr 09 05:04:27 +0000 2019   \n",
       "4   Tue Apr 09 05:04:11 +0000 2019   \n",
       "5   Mon Apr 08 19:38:09 +0000 2019   \n",
       "6   Mon Apr 08 07:08:12 +0000 2019   \n",
       "7   Mon Apr 08 03:27:42 +0000 2019   \n",
       "8   Sun Apr 07 14:17:29 +0000 2019   \n",
       "9   Sun Apr 07 14:17:09 +0000 2019   \n",
       "10  Sun Apr 07 11:43:24 +0000 2019   \n",
       "11  Sun Apr 07 06:55:19 +0000 2019   \n",
       "12  Sun Apr 07 06:53:38 +0000 2019   \n",
       "13  Sun Apr 07 05:32:27 +0000 2019   \n",
       "14  Sun Apr 07 05:29:40 +0000 2019   \n",
       "15  Sat Apr 06 17:11:29 +0000 2019   \n",
       "16  Sat Apr 06 16:43:27 +0000 2019   \n",
       "17  Fri Apr 05 16:08:37 +0000 2019   \n",
       "18  Fri Apr 05 04:05:11 +0000 2019   \n",
       "19  Fri Apr 05 04:04:43 +0000 2019   \n",
       "\n",
       "                                                 Text  Favorites  retweets  \\\n",
       "0   Clarification: Our earlier post which indicate...          1         0   \n",
       "1   RT @IIITDelhi: Applications open for MTech (CB...          0         1   \n",
       "2   RT @IIITDelhi: We are delighted to share that ...          0        14   \n",
       "3   RT @Harvard: Professor Jelani Nelson founded A...          0        36   \n",
       "4   RT @emnlp2019: For anyone interested in submit...          0        17   \n",
       "5   RT @multimediaeval: Announcing the 2019 MediaE...          0        15   \n",
       "6   Many Congratulations to @midasIIITD student, S...         18         2   \n",
       "7   @midasIIITD thanks all students who have appea...          5         0   \n",
       "8   @himanchalchandr Meanwhile, complete CV/NLP ta...          0         0   \n",
       "9   @sayangdipto123 Submit as per the guideline ag...          0         0   \n",
       "10  We request all students whose interview are sc...          1         1   \n",
       "11  Other queries: \"none of the Tweeter Apis give ...          5         2   \n",
       "12  Other queries: \"do we have to make two differe...          5         1   \n",
       "13  Other queries: \"If using Twitter api, it does ...          6         1   \n",
       "14  Response to some queries asked by students on ...          7         1   \n",
       "15  RT @kdnuggets: Top 8 #Free Must-Read #Books on...          0         2   \n",
       "16  @nupur_baghel @PennDATS Congratulation @nupur_...         18         3   \n",
       "17  We have emailed the task details to all candid...         11         1   \n",
       "18  RT @rfpvjr: Our NAACL paper on polarization in...          0        16   \n",
       "19  RT @kdnuggets: Effective Transfer Learning For...          0        11   \n",
       "\n",
       "   Images  \n",
       "0    None  \n",
       "1    None  \n",
       "2    None  \n",
       "3    None  \n",
       "4    None  \n",
       "5    None  \n",
       "6    None  \n",
       "7    None  \n",
       "8    None  \n",
       "9    None  \n",
       "10   None  \n",
       "11   None  \n",
       "12   None  \n",
       "13   None  \n",
       "14   None  \n",
       "15   None  \n",
       "16   None  \n",
       "17   None  \n",
       "18   None  \n",
       "19   None  "
      ]
     },
     "execution_count": 247,
     "metadata": {},
     "output_type": "execute_result"
    }
   ],
   "source": [
    "tp"
   ]
  },
  {
   "cell_type": "markdown",
   "metadata": {},
   "source": [
    "Save the information in csv file"
   ]
  },
  {
   "cell_type": "code",
   "execution_count": 248,
   "metadata": {},
   "outputs": [],
   "source": [
    "tp.to_csv(\"Tweet_in_tabular_format.csv\",index=False)"
   ]
  }
 ],
 "metadata": {
  "kernelspec": {
   "display_name": "Python 3",
   "language": "python",
   "name": "python3"
  },
  "language_info": {
   "codemirror_mode": {
    "name": "ipython",
    "version": 3
   },
   "file_extension": ".py",
   "mimetype": "text/x-python",
   "name": "python",
   "nbconvert_exporter": "python",
   "pygments_lexer": "ipython3",
   "version": "3.6.8"
  }
 },
 "nbformat": 4,
 "nbformat_minor": 2
}
